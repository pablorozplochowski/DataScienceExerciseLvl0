{
 "cells": [
  {
   "cell_type": "code",
   "execution_count": 1,
   "metadata": {},
   "outputs": [],
   "source": [
    "import pandas as pd \n",
    "import numpy as np\n",
    "air = pd.read_csv(r'E:\\PythonAnacondaScripts\\course-files\\Air_Traffic_Passenger_Statistics.csv')"
   ]
  },
  {
   "source": [
    "air.head()"
   ],
   "cell_type": "code",
   "metadata": {
    "tags": []
   },
   "execution_count": null,
   "outputs": []
  },
  {
   "source": [
    "air.set_index([\"Activity Period\",\"Operating Airline\"]).head(10)"
   ],
   "cell_type": "code",
   "metadata": {},
   "execution_count": null,
   "outputs": []
  },
  {
   "source": [
    "air.reset_index()"
   ],
   "cell_type": "code",
   "metadata": {},
   "execution_count": null,
   "outputs": []
  },
  {
   "source": [
    "air.set_index([\"Activity Period\",\"Operating Airline\"]).head(5)"
   ],
   "cell_type": "code",
   "metadata": {},
   "execution_count": 24,
   "outputs": [
    {
     "output_type": "execute_result",
     "data": {
      "text/plain": "                                  Operating Airline IATA Code  \\\nActivity Period Operating Airline                               \n200507          ATA Airlines                               TZ   \n                ATA Airlines                               TZ   \n                ATA Airlines                               TZ   \n                Air Canada                                 AC   \n                Air Canada                                 AC   \n\n                                  Published Airline  \\\nActivity Period Operating Airline                     \n200507          ATA Airlines           ATA Airlines   \n                ATA Airlines           ATA Airlines   \n                ATA Airlines           ATA Airlines   \n                Air Canada               Air Canada   \n                Air Canada               Air Canada   \n\n                                  Published Airline IATA Code    GEO Summary  \\\nActivity Period Operating Airline                                              \n200507          ATA Airlines                               TZ       Domestic   \n                ATA Airlines                               TZ       Domestic   \n                ATA Airlines                               TZ       Domestic   \n                Air Canada                                 AC  International   \n                Air Canada                                 AC  International   \n\n                                  GEO Region Activity Type Code  \\\nActivity Period Operating Airline                                 \n200507          ATA Airlines              US           Deplaned   \n                ATA Airlines              US           Enplaned   \n                ATA Airlines              US     Thru / Transit   \n                Air Canada            Canada           Deplaned   \n                Air Canada            Canada           Enplaned   \n\n                                  Price Category Code    Terminal  \\\nActivity Period Operating Airline                                   \n200507          ATA Airlines                 Low Fare  Terminal 1   \n                ATA Airlines                 Low Fare  Terminal 1   \n                ATA Airlines                 Low Fare  Terminal 1   \n                Air Canada                      Other  Terminal 1   \n                Air Canada                      Other  Terminal 1   \n\n                                  Boarding Area  Passenger Count  \nActivity Period Operating Airline                                 \n200507          ATA Airlines                  B            27271  \n                ATA Airlines                  B            29131  \n                ATA Airlines                  B             5415  \n                Air Canada                    B            35156  \n                Air Canada                    B            34090  ",
      "text/html": "<div>\n<style scoped>\n    .dataframe tbody tr th:only-of-type {\n        vertical-align: middle;\n    }\n\n    .dataframe tbody tr th {\n        vertical-align: top;\n    }\n\n    .dataframe thead th {\n        text-align: right;\n    }\n</style>\n<table border=\"1\" class=\"dataframe\">\n  <thead>\n    <tr style=\"text-align: right;\">\n      <th></th>\n      <th></th>\n      <th>Operating Airline IATA Code</th>\n      <th>Published Airline</th>\n      <th>Published Airline IATA Code</th>\n      <th>GEO Summary</th>\n      <th>GEO Region</th>\n      <th>Activity Type Code</th>\n      <th>Price Category Code</th>\n      <th>Terminal</th>\n      <th>Boarding Area</th>\n      <th>Passenger Count</th>\n    </tr>\n    <tr>\n      <th>Activity Period</th>\n      <th>Operating Airline</th>\n      <th></th>\n      <th></th>\n      <th></th>\n      <th></th>\n      <th></th>\n      <th></th>\n      <th></th>\n      <th></th>\n      <th></th>\n      <th></th>\n    </tr>\n  </thead>\n  <tbody>\n    <tr>\n      <th rowspan=\"5\" valign=\"top\">200507</th>\n      <th>ATA Airlines</th>\n      <td>TZ</td>\n      <td>ATA Airlines</td>\n      <td>TZ</td>\n      <td>Domestic</td>\n      <td>US</td>\n      <td>Deplaned</td>\n      <td>Low Fare</td>\n      <td>Terminal 1</td>\n      <td>B</td>\n      <td>27271</td>\n    </tr>\n    <tr>\n      <th>ATA Airlines</th>\n      <td>TZ</td>\n      <td>ATA Airlines</td>\n      <td>TZ</td>\n      <td>Domestic</td>\n      <td>US</td>\n      <td>Enplaned</td>\n      <td>Low Fare</td>\n      <td>Terminal 1</td>\n      <td>B</td>\n      <td>29131</td>\n    </tr>\n    <tr>\n      <th>ATA Airlines</th>\n      <td>TZ</td>\n      <td>ATA Airlines</td>\n      <td>TZ</td>\n      <td>Domestic</td>\n      <td>US</td>\n      <td>Thru / Transit</td>\n      <td>Low Fare</td>\n      <td>Terminal 1</td>\n      <td>B</td>\n      <td>5415</td>\n    </tr>\n    <tr>\n      <th>Air Canada</th>\n      <td>AC</td>\n      <td>Air Canada</td>\n      <td>AC</td>\n      <td>International</td>\n      <td>Canada</td>\n      <td>Deplaned</td>\n      <td>Other</td>\n      <td>Terminal 1</td>\n      <td>B</td>\n      <td>35156</td>\n    </tr>\n    <tr>\n      <th>Air Canada</th>\n      <td>AC</td>\n      <td>Air Canada</td>\n      <td>AC</td>\n      <td>International</td>\n      <td>Canada</td>\n      <td>Enplaned</td>\n      <td>Other</td>\n      <td>Terminal 1</td>\n      <td>B</td>\n      <td>34090</td>\n    </tr>\n  </tbody>\n</table>\n</div>"
     },
     "metadata": {},
     "execution_count": 24
    }
   ]
  },
  {
   "cell_type": "code",
   "execution_count": 25,
   "metadata": {},
   "outputs": [
    {
     "output_type": "execute_result",
     "data": {
      "text/plain": "   Activity Period Operating Airline Operating Airline IATA Code  \\\n0           200507      ATA Airlines                          TZ   \n1           200507      ATA Airlines                          TZ   \n2           200507      ATA Airlines                          TZ   \n3           200507        Air Canada                          AC   \n4           200507        Air Canada                          AC   \n\n  Published Airline Published Airline IATA Code    GEO Summary GEO Region  \\\n0      ATA Airlines                          TZ       Domestic         US   \n1      ATA Airlines                          TZ       Domestic         US   \n2      ATA Airlines                          TZ       Domestic         US   \n3        Air Canada                          AC  International     Canada   \n4        Air Canada                          AC  International     Canada   \n\n  Activity Type Code Price Category Code    Terminal Boarding Area  \\\n0           Deplaned            Low Fare  Terminal 1             B   \n1           Enplaned            Low Fare  Terminal 1             B   \n2     Thru / Transit            Low Fare  Terminal 1             B   \n3           Deplaned               Other  Terminal 1             B   \n4           Enplaned               Other  Terminal 1             B   \n\n   Passenger Count  \n0            27271  \n1            29131  \n2             5415  \n3            35156  \n4            34090  ",
      "text/html": "<div>\n<style scoped>\n    .dataframe tbody tr th:only-of-type {\n        vertical-align: middle;\n    }\n\n    .dataframe tbody tr th {\n        vertical-align: top;\n    }\n\n    .dataframe thead th {\n        text-align: right;\n    }\n</style>\n<table border=\"1\" class=\"dataframe\">\n  <thead>\n    <tr style=\"text-align: right;\">\n      <th></th>\n      <th>Activity Period</th>\n      <th>Operating Airline</th>\n      <th>Operating Airline IATA Code</th>\n      <th>Published Airline</th>\n      <th>Published Airline IATA Code</th>\n      <th>GEO Summary</th>\n      <th>GEO Region</th>\n      <th>Activity Type Code</th>\n      <th>Price Category Code</th>\n      <th>Terminal</th>\n      <th>Boarding Area</th>\n      <th>Passenger Count</th>\n    </tr>\n  </thead>\n  <tbody>\n    <tr>\n      <th>0</th>\n      <td>200507</td>\n      <td>ATA Airlines</td>\n      <td>TZ</td>\n      <td>ATA Airlines</td>\n      <td>TZ</td>\n      <td>Domestic</td>\n      <td>US</td>\n      <td>Deplaned</td>\n      <td>Low Fare</td>\n      <td>Terminal 1</td>\n      <td>B</td>\n      <td>27271</td>\n    </tr>\n    <tr>\n      <th>1</th>\n      <td>200507</td>\n      <td>ATA Airlines</td>\n      <td>TZ</td>\n      <td>ATA Airlines</td>\n      <td>TZ</td>\n      <td>Domestic</td>\n      <td>US</td>\n      <td>Enplaned</td>\n      <td>Low Fare</td>\n      <td>Terminal 1</td>\n      <td>B</td>\n      <td>29131</td>\n    </tr>\n    <tr>\n      <th>2</th>\n      <td>200507</td>\n      <td>ATA Airlines</td>\n      <td>TZ</td>\n      <td>ATA Airlines</td>\n      <td>TZ</td>\n      <td>Domestic</td>\n      <td>US</td>\n      <td>Thru / Transit</td>\n      <td>Low Fare</td>\n      <td>Terminal 1</td>\n      <td>B</td>\n      <td>5415</td>\n    </tr>\n    <tr>\n      <th>3</th>\n      <td>200507</td>\n      <td>Air Canada</td>\n      <td>AC</td>\n      <td>Air Canada</td>\n      <td>AC</td>\n      <td>International</td>\n      <td>Canada</td>\n      <td>Deplaned</td>\n      <td>Other</td>\n      <td>Terminal 1</td>\n      <td>B</td>\n      <td>35156</td>\n    </tr>\n    <tr>\n      <th>4</th>\n      <td>200507</td>\n      <td>Air Canada</td>\n      <td>AC</td>\n      <td>Air Canada</td>\n      <td>AC</td>\n      <td>International</td>\n      <td>Canada</td>\n      <td>Enplaned</td>\n      <td>Other</td>\n      <td>Terminal 1</td>\n      <td>B</td>\n      <td>34090</td>\n    </tr>\n  </tbody>\n</table>\n</div>"
     },
     "metadata": {},
     "execution_count": 25
    }
   ],
   "source": [
    "air.sort_index(ascending = [False, True], inplace = True)\n",
    "air.head()"
   ]
  },
  {
   "cell_type": "code",
   "execution_count": null,
   "metadata": {},
   "outputs": [],
   "source": []
  }
 ],
 "metadata": {
  "kernelspec": {
   "display_name": "Python 3",
   "language": "python",
   "name": "python3"
  },
  "language_info": {
   "codemirror_mode": {
    "name": "ipython",
    "version": 3
   },
   "file_extension": ".py",
   "mimetype": "text/x-python",
   "name": "python",
   "nbconvert_exporter": "python",
   "pygments_lexer": "ipython3",
   "version": "3.7.6-final"
  }
 },
 "nbformat": 4,
 "nbformat_minor": 4
}